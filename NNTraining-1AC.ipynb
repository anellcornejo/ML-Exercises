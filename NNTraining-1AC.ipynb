{
 "cells": [
  {
   "cell_type": "markdown",
   "metadata": {},
   "source": [
    "# Entrenamiento de una red neuronal para"
   ]
  },
  {
   "cell_type": "markdown",
   "metadata": {},
   "source": [
    "### Obtención de datos\n",
    "\n",
    "Inicialmente importamos la librería necesaria"
   ]
  },
  {
   "cell_type": "code",
   "execution_count": 1,
   "metadata": {},
   "outputs": [],
   "source": [
    "import numpy as np\n",
    "import pandas as pd\n",
    "import os"
   ]
  },
  {
   "cell_type": "code",
   "execution_count": 2,
   "metadata": {},
   "outputs": [],
   "source": [
    "data = pd.read_csv(\"/home/anell/Projects/Pulsar-NN/pulsar_stars.csv\")"
   ]
  },
  {
   "cell_type": "code",
   "execution_count": 3,
   "metadata": {},
   "outputs": [
    {
     "data": {
      "text/html": [
       "<div>\n",
       "<style scoped>\n",
       "    .dataframe tbody tr th:only-of-type {\n",
       "        vertical-align: middle;\n",
       "    }\n",
       "\n",
       "    .dataframe tbody tr th {\n",
       "        vertical-align: top;\n",
       "    }\n",
       "\n",
       "    .dataframe thead th {\n",
       "        text-align: right;\n",
       "    }\n",
       "</style>\n",
       "<table border=\"1\" class=\"dataframe\">\n",
       "  <thead>\n",
       "    <tr style=\"text-align: right;\">\n",
       "      <th></th>\n",
       "      <th>Mean-of-the-integrated-profile</th>\n",
       "      <th>Standard-deviation-of the-integrated-profile</th>\n",
       "      <th>Excess-kurtosis-of-the-integrated-profile</th>\n",
       "      <th>Skewness-of-the-integrated-profile</th>\n",
       "      <th>Mean-of-the-DM-SNR-curve</th>\n",
       "      <th>Standard-deviation-of-the-DM-SNR-curve</th>\n",
       "      <th>Excess-kurtosis-of-the-DM-SNR-curve</th>\n",
       "      <th>Skewness-of-the-DM-SNR-curve</th>\n",
       "      <th>target_class</th>\n",
       "    </tr>\n",
       "  </thead>\n",
       "  <tbody>\n",
       "    <tr>\n",
       "      <th>0</th>\n",
       "      <td>140.562500</td>\n",
       "      <td>55.683782</td>\n",
       "      <td>-0.234571</td>\n",
       "      <td>-0.699648</td>\n",
       "      <td>3.199833</td>\n",
       "      <td>19.110426</td>\n",
       "      <td>7.975532</td>\n",
       "      <td>74.242225</td>\n",
       "      <td>0</td>\n",
       "    </tr>\n",
       "    <tr>\n",
       "      <th>1</th>\n",
       "      <td>102.507812</td>\n",
       "      <td>58.882430</td>\n",
       "      <td>0.465318</td>\n",
       "      <td>-0.515088</td>\n",
       "      <td>1.677258</td>\n",
       "      <td>14.860146</td>\n",
       "      <td>10.576487</td>\n",
       "      <td>127.393580</td>\n",
       "      <td>0</td>\n",
       "    </tr>\n",
       "    <tr>\n",
       "      <th>2</th>\n",
       "      <td>103.015625</td>\n",
       "      <td>39.341649</td>\n",
       "      <td>0.323328</td>\n",
       "      <td>1.051164</td>\n",
       "      <td>3.121237</td>\n",
       "      <td>21.744669</td>\n",
       "      <td>7.735822</td>\n",
       "      <td>63.171909</td>\n",
       "      <td>0</td>\n",
       "    </tr>\n",
       "    <tr>\n",
       "      <th>3</th>\n",
       "      <td>136.750000</td>\n",
       "      <td>57.178449</td>\n",
       "      <td>-0.068415</td>\n",
       "      <td>-0.636238</td>\n",
       "      <td>3.642977</td>\n",
       "      <td>20.959280</td>\n",
       "      <td>6.896499</td>\n",
       "      <td>53.593661</td>\n",
       "      <td>0</td>\n",
       "    </tr>\n",
       "    <tr>\n",
       "      <th>4</th>\n",
       "      <td>88.726562</td>\n",
       "      <td>40.672225</td>\n",
       "      <td>0.600866</td>\n",
       "      <td>1.123492</td>\n",
       "      <td>1.178930</td>\n",
       "      <td>11.468720</td>\n",
       "      <td>14.269573</td>\n",
       "      <td>252.567306</td>\n",
       "      <td>0</td>\n",
       "    </tr>\n",
       "  </tbody>\n",
       "</table>\n",
       "</div>"
      ],
      "text/plain": [
       "    Mean-of-the-integrated-profile  \\\n",
       "0                       140.562500   \n",
       "1                       102.507812   \n",
       "2                       103.015625   \n",
       "3                       136.750000   \n",
       "4                        88.726562   \n",
       "\n",
       "    Standard-deviation-of the-integrated-profile  \\\n",
       "0                                      55.683782   \n",
       "1                                      58.882430   \n",
       "2                                      39.341649   \n",
       "3                                      57.178449   \n",
       "4                                      40.672225   \n",
       "\n",
       "    Excess-kurtosis-of-the-integrated-profile  \\\n",
       "0                                   -0.234571   \n",
       "1                                    0.465318   \n",
       "2                                    0.323328   \n",
       "3                                   -0.068415   \n",
       "4                                    0.600866   \n",
       "\n",
       "    Skewness-of-the-integrated-profile   Mean-of-the-DM-SNR-curve  \\\n",
       "0                            -0.699648                   3.199833   \n",
       "1                            -0.515088                   1.677258   \n",
       "2                             1.051164                   3.121237   \n",
       "3                            -0.636238                   3.642977   \n",
       "4                             1.123492                   1.178930   \n",
       "\n",
       "    Standard-deviation-of-the-DM-SNR-curve  \\\n",
       "0                                19.110426   \n",
       "1                                14.860146   \n",
       "2                                21.744669   \n",
       "3                                20.959280   \n",
       "4                                11.468720   \n",
       "\n",
       "    Excess-kurtosis-of-the-DM-SNR-curve   Skewness-of-the-DM-SNR-curve  \\\n",
       "0                              7.975532                      74.242225   \n",
       "1                             10.576487                     127.393580   \n",
       "2                              7.735822                      63.171909   \n",
       "3                              6.896499                      53.593661   \n",
       "4                             14.269573                     252.567306   \n",
       "\n",
       "   target_class  \n",
       "0             0  \n",
       "1             0  \n",
       "2             0  \n",
       "3             0  \n",
       "4             0  "
      ]
     },
     "execution_count": 3,
     "metadata": {},
     "output_type": "execute_result"
    }
   ],
   "source": [
    "data.head()"
   ]
  },
  {
   "cell_type": "code",
   "execution_count": 4,
   "metadata": {},
   "outputs": [],
   "source": [
    "ejemplos = data.values.tolist()\n",
    "ejemplos = np.array(ejemplos)\n",
    "\n",
    "features = ejemplos.transpose()"
   ]
  },
  {
   "cell_type": "code",
   "execution_count": 5,
   "metadata": {},
   "outputs": [],
   "source": [
    "X = features[0:8]\n",
    "Y = features[8]\n",
    "\n",
    "X = X.transpose()"
   ]
  },
  {
   "cell_type": "markdown",
   "metadata": {},
   "source": [
    "Ahora creamos el set de validación cruzada y el de entrenamiento"
   ]
  },
  {
   "cell_type": "code",
   "execution_count": 6,
   "metadata": {},
   "outputs": [],
   "source": [
    "X_train = X[0:14000]\n",
    "Y_train = Y[0:14000]\n",
    "\n",
    "X_cv = X[14000:]\n",
    "Y_cv = Y[14000:]"
   ]
  },
  {
   "cell_type": "code",
   "execution_count": 7,
   "metadata": {},
   "outputs": [
    {
     "data": {
      "text/plain": [
       "((14000, 8), (14000,), (3898, 8), (3898, 8))"
      ]
     },
     "execution_count": 7,
     "metadata": {},
     "output_type": "execute_result"
    }
   ],
   "source": [
    "X_train.shape, Y_train.shape, X_cv.shape, X_cv.shape"
   ]
  },
  {
   "cell_type": "markdown",
   "metadata": {},
   "source": [
    "### Entrenamiento de la red neuronal\n",
    "\n",
    "Importamos la libreria necesaria"
   ]
  },
  {
   "cell_type": "code",
   "execution_count": 8,
   "metadata": {},
   "outputs": [
    {
     "name": "stderr",
     "output_type": "stream",
     "text": [
      "Using TensorFlow backend.\n"
     ]
    }
   ],
   "source": [
    "from keras.models import Model, load_model\n",
    "from keras.layers import Input, BatchNormalization, Activation, Dense, Dropout, Flatten\n",
    "from keras.layers.core import Lambda, RepeatVector, Reshape\n",
    "from keras.layers.convolutional import Conv2D, Conv2DTranspose\n",
    "from keras.layers.pooling import MaxPooling2D, GlobalMaxPool2D\n",
    "from keras.layers.merge import concatenate, add\n",
    "from keras.callbacks import EarlyStopping, ModelCheckpoint, ReduceLROnPlateau\n",
    "from keras.optimizers import Adam, SGD\n",
    "from keras.preprocessing.image import ImageDataGenerator, array_to_img, img_to_array, load_img\n",
    "from keras.utils.np_utils import to_categorical"
   ]
  },
  {
   "cell_type": "markdown",
   "metadata": {},
   "source": [
    "Primero armamos la red neuronal"
   ]
  },
  {
   "cell_type": "code",
   "execution_count": 9,
   "metadata": {},
   "outputs": [
    {
     "name": "stdout",
     "output_type": "stream",
     "text": [
      "Model: \"model_1\"\n",
      "_________________________________________________________________\n",
      "Layer (type)                 Output Shape              Param #   \n",
      "=================================================================\n",
      "input_1 (InputLayer)         (None, 8)                 0         \n",
      "_________________________________________________________________\n",
      "dense_2 (Dense)              (None, 1)                 9         \n",
      "_________________________________________________________________\n",
      "activation_2 (Activation)    (None, 1)                 0         \n",
      "=================================================================\n",
      "Total params: 9\n",
      "Trainable params: 9\n",
      "Non-trainable params: 0\n",
      "_________________________________________________________________\n"
     ]
    }
   ],
   "source": [
    "inputs = Input(shape=(8,))\n",
    "\n",
    "x = Dense(2)(inputs)\n",
    "x = Activation(\"relu\")(x)\n",
    "\n",
    "x = Dense(1)(inputs)\n",
    "x = Activation(\"sigmoid\")(x)\n",
    "\n",
    "model = Model(inputs, x)\n",
    "\n",
    "\n",
    "# Compilación del modelo:\n",
    "model.compile(optimizer=Adam(), loss='binary_crossentropy', metrics=['accuracy'])\n",
    "\n",
    "model.summary()"
   ]
  },
  {
   "cell_type": "markdown",
   "metadata": {},
   "source": [
    "Ahora entrenamos nuestra red neuronal"
   ]
  },
  {
   "cell_type": "code",
   "execution_count": 10,
   "metadata": {},
   "outputs": [
    {
     "name": "stdout",
     "output_type": "stream",
     "text": [
      "Epoch 1/20\n",
      "14000/14000 [==============================] - 23s 2ms/step - loss: 3.4791 - accuracy: 0.8272\n",
      "Epoch 2/20\n",
      "14000/14000 [==============================] - 18s 1ms/step - loss: 0.1398 - accuracy: 0.9633\n",
      "Epoch 3/20\n",
      "14000/14000 [==============================] - 16s 1ms/step - loss: 0.1000 - accuracy: 0.9706\n",
      "Epoch 4/20\n",
      "14000/14000 [==============================] - 16s 1ms/step - loss: 0.0995 - accuracy: 0.9712\n",
      "Epoch 5/20\n",
      "14000/14000 [==============================] - 19s 1ms/step - loss: 0.0987 - accuracy: 0.9721\n",
      "Epoch 6/20\n",
      "14000/14000 [==============================] - 18s 1ms/step - loss: 0.0981 - accuracy: 0.9709\n",
      "Epoch 7/20\n",
      "14000/14000 [==============================] - 15s 1ms/step - loss: 0.0985 - accuracy: 0.9720\n",
      "Epoch 8/20\n",
      "14000/14000 [==============================] - 19s 1ms/step - loss: 0.0981 - accuracy: 0.9723\n",
      "Epoch 9/20\n",
      "14000/14000 [==============================] - 19s 1ms/step - loss: 0.0979 - accuracy: 0.9723\n",
      "Epoch 10/20\n",
      "14000/14000 [==============================] - 20s 1ms/step - loss: 0.0978 - accuracy: 0.9726\n",
      "Epoch 11/20\n",
      "14000/14000 [==============================] - 19s 1ms/step - loss: 0.0977 - accuracy: 0.9722\n",
      "Epoch 12/20\n",
      "14000/14000 [==============================] - 19s 1ms/step - loss: 0.0965 - accuracy: 0.9731\n",
      "Epoch 13/20\n",
      "14000/14000 [==============================] - 19s 1ms/step - loss: 0.0964 - accuracy: 0.9723\n",
      "Epoch 14/20\n",
      "14000/14000 [==============================] - 20s 1ms/step - loss: 0.0961 - accuracy: 0.9734\n",
      "Epoch 15/20\n",
      "14000/14000 [==============================] - 19s 1ms/step - loss: 0.0954 - accuracy: 0.9736\n",
      "Epoch 16/20\n",
      "14000/14000 [==============================] - 18s 1ms/step - loss: 0.0966 - accuracy: 0.9718\n",
      "Epoch 17/20\n",
      "14000/14000 [==============================] - 19s 1ms/step - loss: 0.0939 - accuracy: 0.9735\n",
      "Epoch 18/20\n",
      "14000/14000 [==============================] - 19s 1ms/step - loss: 0.0960 - accuracy: 0.9734\n",
      "Epoch 19/20\n",
      "14000/14000 [==============================] - 18s 1ms/step - loss: 0.0948 - accuracy: 0.9731\n",
      "Epoch 20/20\n",
      "14000/14000 [==============================] - 18s 1ms/step - loss: 0.0950 - accuracy: 0.9733\n"
     ]
    },
    {
     "data": {
      "text/plain": [
       "<keras.callbacks.callbacks.History at 0x7f65782e3dd0>"
      ]
     },
     "execution_count": 10,
     "metadata": {},
     "output_type": "execute_result"
    }
   ],
   "source": [
    "model.fit(X_train, Y_train, epochs=20, batch_size=10)  "
   ]
  },
  {
   "cell_type": "markdown",
   "metadata": {},
   "source": [
    "Evaluamos el modelo para el conjunto de entrenamiento y el de validación cruzada:"
   ]
  },
  {
   "cell_type": "code",
   "execution_count": 11,
   "metadata": {},
   "outputs": [
    {
     "name": "stdout",
     "output_type": "stream",
     "text": [
      "14000/14000 [==============================] - 2s 142us/step\n",
      "Accuracy train: 96.91\n"
     ]
    }
   ],
   "source": [
    "# evaluación del modelo para el conjunto de entrenamiento\n",
    "J_train, accuracy_train = model.evaluate(X_train, Y_train)\n",
    "print('Accuracy train: %.2f' % (accuracy_train*100))"
   ]
  },
  {
   "cell_type": "code",
   "execution_count": 12,
   "metadata": {},
   "outputs": [
    {
     "name": "stdout",
     "output_type": "stream",
     "text": [
      "3898/3898 [==============================] - 0s 91us/step\n",
      "Accuracy CV: 99.15\n"
     ]
    }
   ],
   "source": [
    "# evaluación del modelo para el conjunto de validación cruzada\n",
    "J_cv, accuracy_cv = model.evaluate(X_cv, Y_cv)\n",
    "print('Accuracy CV: %.2f' % (accuracy_cv*100))"
   ]
  },
  {
   "cell_type": "code",
   "execution_count": null,
   "metadata": {},
   "outputs": [],
   "source": []
  }
 ],
 "metadata": {
  "kernelspec": {
   "display_name": "Python 3",
   "language": "python",
   "name": "python3"
  },
  "language_info": {
   "codemirror_mode": {
    "name": "ipython",
    "version": 3
   },
   "file_extension": ".py",
   "mimetype": "text/x-python",
   "name": "python",
   "nbconvert_exporter": "python",
   "pygments_lexer": "ipython3",
   "version": "3.7.5"
  }
 },
 "nbformat": 4,
 "nbformat_minor": 4
}
