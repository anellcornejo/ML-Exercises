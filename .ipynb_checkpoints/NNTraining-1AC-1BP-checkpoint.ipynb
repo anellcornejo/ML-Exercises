{
 "cells": [
  {
   "cell_type": "markdown",
   "metadata": {},
   "source": [
    "# Entrenamiento de una red neuronal para"
   ]
  },
  {
   "cell_type": "markdown",
   "metadata": {},
   "source": [
    "### Obtención de datos\n",
    "\n",
    "Inicialmente importamos la librería necesaria"
   ]
  },
  {
   "cell_type": "code",
   "execution_count": 2,
   "metadata": {},
   "outputs": [],
   "source": [
    "import numpy as np\n",
    "import pandas as pd\n",
    "import os\n",
    "\n",
    "from keras.models import Model, load_model\n",
    "from keras.layers import Input, BatchNormalization, Activation, Dense, Dropout, Flatten\n",
    "from keras.layers.core import Lambda, RepeatVector, Reshape\n",
    "from keras.layers.convolutional import Conv2D, Conv2DTranspose\n",
    "from keras.layers.pooling import MaxPooling2D, GlobalMaxPool2D\n",
    "from keras.layers.merge import concatenate, add\n",
    "from keras.callbacks import EarlyStopping, ModelCheckpoint, ReduceLROnPlateau\n",
    "from keras.optimizers import Adam, SGD\n",
    "from keras.preprocessing.image import ImageDataGenerator, array_to_img, img_to_array, load_img\n",
    "from keras.utils.np_utils import to_categorical"
   ]
  },
  {
   "cell_type": "markdown",
   "metadata": {},
   "source": [
    "#### data description\n",
    "\n",
    "The columns are estimators that characterize the spectrum of stars. Boby uses the spectrum directly by including\n",
    "convolutional one-dimensional networks. "
   ]
  },
  {
   "cell_type": "code",
   "execution_count": 26,
   "metadata": {},
   "outputs": [],
   "source": [
    "data = pd.read_csv(\"pulsar_stars.csv\")"
   ]
  },
  {
   "cell_type": "code",
   "execution_count": 27,
   "metadata": {},
   "outputs": [
    {
     "data": {
      "text/html": [
       "<div>\n",
       "<style scoped>\n",
       "    .dataframe tbody tr th:only-of-type {\n",
       "        vertical-align: middle;\n",
       "    }\n",
       "\n",
       "    .dataframe tbody tr th {\n",
       "        vertical-align: top;\n",
       "    }\n",
       "\n",
       "    .dataframe thead th {\n",
       "        text-align: right;\n",
       "    }\n",
       "</style>\n",
       "<table border=\"1\" class=\"dataframe\">\n",
       "  <thead>\n",
       "    <tr style=\"text-align: right;\">\n",
       "      <th></th>\n",
       "      <th>Mean of the integrated profile</th>\n",
       "      <th>Standard deviation of the integrated profile</th>\n",
       "      <th>Excess kurtosis of the integrated profile</th>\n",
       "      <th>Skewness of the integrated profile</th>\n",
       "      <th>Mean of the DM-SNR curve</th>\n",
       "      <th>Standard deviation of the DM-SNR curve</th>\n",
       "      <th>Excess kurtosis of the DM-SNR curve</th>\n",
       "      <th>Skewness of the DM-SNR curve</th>\n",
       "      <th>target_class</th>\n",
       "    </tr>\n",
       "  </thead>\n",
       "  <tbody>\n",
       "    <tr>\n",
       "      <th>0</th>\n",
       "      <td>140.562500</td>\n",
       "      <td>55.683782</td>\n",
       "      <td>-0.234571</td>\n",
       "      <td>-0.699648</td>\n",
       "      <td>3.199833</td>\n",
       "      <td>19.110426</td>\n",
       "      <td>7.975532</td>\n",
       "      <td>74.242225</td>\n",
       "      <td>0</td>\n",
       "    </tr>\n",
       "    <tr>\n",
       "      <th>1</th>\n",
       "      <td>102.507812</td>\n",
       "      <td>58.882430</td>\n",
       "      <td>0.465318</td>\n",
       "      <td>-0.515088</td>\n",
       "      <td>1.677258</td>\n",
       "      <td>14.860146</td>\n",
       "      <td>10.576487</td>\n",
       "      <td>127.393580</td>\n",
       "      <td>0</td>\n",
       "    </tr>\n",
       "    <tr>\n",
       "      <th>2</th>\n",
       "      <td>103.015625</td>\n",
       "      <td>39.341649</td>\n",
       "      <td>0.323328</td>\n",
       "      <td>1.051164</td>\n",
       "      <td>3.121237</td>\n",
       "      <td>21.744669</td>\n",
       "      <td>7.735822</td>\n",
       "      <td>63.171909</td>\n",
       "      <td>0</td>\n",
       "    </tr>\n",
       "    <tr>\n",
       "      <th>3</th>\n",
       "      <td>136.750000</td>\n",
       "      <td>57.178449</td>\n",
       "      <td>-0.068415</td>\n",
       "      <td>-0.636238</td>\n",
       "      <td>3.642977</td>\n",
       "      <td>20.959280</td>\n",
       "      <td>6.896499</td>\n",
       "      <td>53.593661</td>\n",
       "      <td>0</td>\n",
       "    </tr>\n",
       "    <tr>\n",
       "      <th>4</th>\n",
       "      <td>88.726562</td>\n",
       "      <td>40.672225</td>\n",
       "      <td>0.600866</td>\n",
       "      <td>1.123492</td>\n",
       "      <td>1.178930</td>\n",
       "      <td>11.468720</td>\n",
       "      <td>14.269573</td>\n",
       "      <td>252.567306</td>\n",
       "      <td>0</td>\n",
       "    </tr>\n",
       "  </tbody>\n",
       "</table>\n",
       "</div>"
      ],
      "text/plain": [
       "    Mean of the integrated profile  \\\n",
       "0                       140.562500   \n",
       "1                       102.507812   \n",
       "2                       103.015625   \n",
       "3                       136.750000   \n",
       "4                        88.726562   \n",
       "\n",
       "    Standard deviation of the integrated profile  \\\n",
       "0                                      55.683782   \n",
       "1                                      58.882430   \n",
       "2                                      39.341649   \n",
       "3                                      57.178449   \n",
       "4                                      40.672225   \n",
       "\n",
       "    Excess kurtosis of the integrated profile  \\\n",
       "0                                   -0.234571   \n",
       "1                                    0.465318   \n",
       "2                                    0.323328   \n",
       "3                                   -0.068415   \n",
       "4                                    0.600866   \n",
       "\n",
       "    Skewness of the integrated profile   Mean of the DM-SNR curve  \\\n",
       "0                            -0.699648                   3.199833   \n",
       "1                            -0.515088                   1.677258   \n",
       "2                             1.051164                   3.121237   \n",
       "3                            -0.636238                   3.642977   \n",
       "4                             1.123492                   1.178930   \n",
       "\n",
       "    Standard deviation of the DM-SNR curve  \\\n",
       "0                                19.110426   \n",
       "1                                14.860146   \n",
       "2                                21.744669   \n",
       "3                                20.959280   \n",
       "4                                11.468720   \n",
       "\n",
       "    Excess kurtosis of the DM-SNR curve   Skewness of the DM-SNR curve  \\\n",
       "0                              7.975532                      74.242225   \n",
       "1                             10.576487                     127.393580   \n",
       "2                              7.735822                      63.171909   \n",
       "3                              6.896499                      53.593661   \n",
       "4                             14.269573                     252.567306   \n",
       "\n",
       "   target_class  \n",
       "0             0  \n",
       "1             0  \n",
       "2             0  \n",
       "3             0  \n",
       "4             0  "
      ]
     },
     "execution_count": 27,
     "metadata": {},
     "output_type": "execute_result"
    }
   ],
   "source": [
    "data.head()"
   ]
  },
  {
   "cell_type": "code",
   "execution_count": 28,
   "metadata": {},
   "outputs": [
    {
     "data": {
      "text/html": [
       "<div>\n",
       "<style scoped>\n",
       "    .dataframe tbody tr th:only-of-type {\n",
       "        vertical-align: middle;\n",
       "    }\n",
       "\n",
       "    .dataframe tbody tr th {\n",
       "        vertical-align: top;\n",
       "    }\n",
       "\n",
       "    .dataframe thead th {\n",
       "        text-align: right;\n",
       "    }\n",
       "</style>\n",
       "<table border=\"1\" class=\"dataframe\">\n",
       "  <thead>\n",
       "    <tr style=\"text-align: right;\">\n",
       "      <th></th>\n",
       "      <th>Mean of the integrated profile</th>\n",
       "      <th>Standard deviation of the integrated profile</th>\n",
       "      <th>Excess kurtosis of the integrated profile</th>\n",
       "      <th>Skewness of the integrated profile</th>\n",
       "      <th>Mean of the DM-SNR curve</th>\n",
       "      <th>Standard deviation of the DM-SNR curve</th>\n",
       "      <th>Excess kurtosis of the DM-SNR curve</th>\n",
       "      <th>Skewness of the DM-SNR curve</th>\n",
       "      <th>target_class</th>\n",
       "    </tr>\n",
       "  </thead>\n",
       "  <tbody>\n",
       "    <tr>\n",
       "      <th>17893</th>\n",
       "      <td>136.429688</td>\n",
       "      <td>59.847421</td>\n",
       "      <td>-0.187846</td>\n",
       "      <td>-0.738123</td>\n",
       "      <td>1.296823</td>\n",
       "      <td>12.166062</td>\n",
       "      <td>15.450260</td>\n",
       "      <td>285.931022</td>\n",
       "      <td>0</td>\n",
       "    </tr>\n",
       "    <tr>\n",
       "      <th>17894</th>\n",
       "      <td>122.554688</td>\n",
       "      <td>49.485605</td>\n",
       "      <td>0.127978</td>\n",
       "      <td>0.323061</td>\n",
       "      <td>16.409699</td>\n",
       "      <td>44.626893</td>\n",
       "      <td>2.945244</td>\n",
       "      <td>8.297092</td>\n",
       "      <td>0</td>\n",
       "    </tr>\n",
       "    <tr>\n",
       "      <th>17895</th>\n",
       "      <td>119.335938</td>\n",
       "      <td>59.935939</td>\n",
       "      <td>0.159363</td>\n",
       "      <td>-0.743025</td>\n",
       "      <td>21.430602</td>\n",
       "      <td>58.872000</td>\n",
       "      <td>2.499517</td>\n",
       "      <td>4.595173</td>\n",
       "      <td>0</td>\n",
       "    </tr>\n",
       "    <tr>\n",
       "      <th>17896</th>\n",
       "      <td>114.507812</td>\n",
       "      <td>53.902400</td>\n",
       "      <td>0.201161</td>\n",
       "      <td>-0.024789</td>\n",
       "      <td>1.946488</td>\n",
       "      <td>13.381731</td>\n",
       "      <td>10.007967</td>\n",
       "      <td>134.238910</td>\n",
       "      <td>0</td>\n",
       "    </tr>\n",
       "    <tr>\n",
       "      <th>17897</th>\n",
       "      <td>57.062500</td>\n",
       "      <td>85.797340</td>\n",
       "      <td>1.406391</td>\n",
       "      <td>0.089520</td>\n",
       "      <td>188.306020</td>\n",
       "      <td>64.712562</td>\n",
       "      <td>-1.597527</td>\n",
       "      <td>1.429475</td>\n",
       "      <td>0</td>\n",
       "    </tr>\n",
       "  </tbody>\n",
       "</table>\n",
       "</div>"
      ],
      "text/plain": [
       "        Mean of the integrated profile  \\\n",
       "17893                       136.429688   \n",
       "17894                       122.554688   \n",
       "17895                       119.335938   \n",
       "17896                       114.507812   \n",
       "17897                        57.062500   \n",
       "\n",
       "        Standard deviation of the integrated profile  \\\n",
       "17893                                      59.847421   \n",
       "17894                                      49.485605   \n",
       "17895                                      59.935939   \n",
       "17896                                      53.902400   \n",
       "17897                                      85.797340   \n",
       "\n",
       "        Excess kurtosis of the integrated profile  \\\n",
       "17893                                   -0.187846   \n",
       "17894                                    0.127978   \n",
       "17895                                    0.159363   \n",
       "17896                                    0.201161   \n",
       "17897                                    1.406391   \n",
       "\n",
       "        Skewness of the integrated profile   Mean of the DM-SNR curve  \\\n",
       "17893                            -0.738123                   1.296823   \n",
       "17894                             0.323061                  16.409699   \n",
       "17895                            -0.743025                  21.430602   \n",
       "17896                            -0.024789                   1.946488   \n",
       "17897                             0.089520                 188.306020   \n",
       "\n",
       "        Standard deviation of the DM-SNR curve  \\\n",
       "17893                                12.166062   \n",
       "17894                                44.626893   \n",
       "17895                                58.872000   \n",
       "17896                                13.381731   \n",
       "17897                                64.712562   \n",
       "\n",
       "        Excess kurtosis of the DM-SNR curve   Skewness of the DM-SNR curve  \\\n",
       "17893                             15.450260                     285.931022   \n",
       "17894                              2.945244                       8.297092   \n",
       "17895                              2.499517                       4.595173   \n",
       "17896                             10.007967                     134.238910   \n",
       "17897                             -1.597527                       1.429475   \n",
       "\n",
       "       target_class  \n",
       "17893             0  \n",
       "17894             0  \n",
       "17895             0  \n",
       "17896             0  \n",
       "17897             0  "
      ]
     },
     "execution_count": 28,
     "metadata": {},
     "output_type": "execute_result"
    }
   ],
   "source": [
    "data.tail()"
   ]
  },
  {
   "cell_type": "code",
   "execution_count": 29,
   "metadata": {},
   "outputs": [
    {
     "data": {
      "text/plain": [
       "16259"
      ]
     },
     "execution_count": 29,
     "metadata": {},
     "output_type": "execute_result"
    }
   ],
   "source": [
    "len(data[data[\"target_class\"] == 0])"
   ]
  },
  {
   "cell_type": "code",
   "execution_count": 30,
   "metadata": {},
   "outputs": [
    {
     "data": {
      "text/plain": [
       "1639"
      ]
     },
     "execution_count": 30,
     "metadata": {},
     "output_type": "execute_result"
    }
   ],
   "source": [
    "len(data[data[\"target_class\"] == 1])"
   ]
  },
  {
   "cell_type": "code",
   "execution_count": 31,
   "metadata": {},
   "outputs": [],
   "source": [
    "data = data.sample(frac=1)"
   ]
  },
  {
   "cell_type": "code",
   "execution_count": 32,
   "metadata": {},
   "outputs": [
    {
     "data": {
      "text/html": [
       "<div>\n",
       "<style scoped>\n",
       "    .dataframe tbody tr th:only-of-type {\n",
       "        vertical-align: middle;\n",
       "    }\n",
       "\n",
       "    .dataframe tbody tr th {\n",
       "        vertical-align: top;\n",
       "    }\n",
       "\n",
       "    .dataframe thead th {\n",
       "        text-align: right;\n",
       "    }\n",
       "</style>\n",
       "<table border=\"1\" class=\"dataframe\">\n",
       "  <thead>\n",
       "    <tr style=\"text-align: right;\">\n",
       "      <th></th>\n",
       "      <th>Mean of the integrated profile</th>\n",
       "      <th>Standard deviation of the integrated profile</th>\n",
       "      <th>Excess kurtosis of the integrated profile</th>\n",
       "      <th>Skewness of the integrated profile</th>\n",
       "      <th>Mean of the DM-SNR curve</th>\n",
       "      <th>Standard deviation of the DM-SNR curve</th>\n",
       "      <th>Excess kurtosis of the DM-SNR curve</th>\n",
       "      <th>Skewness of the DM-SNR curve</th>\n",
       "      <th>target_class</th>\n",
       "    </tr>\n",
       "  </thead>\n",
       "  <tbody>\n",
       "    <tr>\n",
       "      <th>5971</th>\n",
       "      <td>109.179688</td>\n",
       "      <td>46.504105</td>\n",
       "      <td>0.451385</td>\n",
       "      <td>0.664331</td>\n",
       "      <td>2.244983</td>\n",
       "      <td>16.955017</td>\n",
       "      <td>8.964016</td>\n",
       "      <td>91.924122</td>\n",
       "      <td>0</td>\n",
       "    </tr>\n",
       "    <tr>\n",
       "      <th>5551</th>\n",
       "      <td>119.093750</td>\n",
       "      <td>45.567676</td>\n",
       "      <td>0.214837</td>\n",
       "      <td>-0.006948</td>\n",
       "      <td>2.315217</td>\n",
       "      <td>14.144032</td>\n",
       "      <td>9.062544</td>\n",
       "      <td>112.090726</td>\n",
       "      <td>0</td>\n",
       "    </tr>\n",
       "    <tr>\n",
       "      <th>5869</th>\n",
       "      <td>86.242188</td>\n",
       "      <td>34.714628</td>\n",
       "      <td>0.772281</td>\n",
       "      <td>3.534834</td>\n",
       "      <td>2.173077</td>\n",
       "      <td>13.503164</td>\n",
       "      <td>10.591768</td>\n",
       "      <td>148.691540</td>\n",
       "      <td>0</td>\n",
       "    </tr>\n",
       "    <tr>\n",
       "      <th>14228</th>\n",
       "      <td>116.835938</td>\n",
       "      <td>48.308704</td>\n",
       "      <td>0.011564</td>\n",
       "      <td>-0.085702</td>\n",
       "      <td>4.219064</td>\n",
       "      <td>23.944065</td>\n",
       "      <td>6.838946</td>\n",
       "      <td>51.750943</td>\n",
       "      <td>0</td>\n",
       "    </tr>\n",
       "    <tr>\n",
       "      <th>12661</th>\n",
       "      <td>99.890625</td>\n",
       "      <td>47.729910</td>\n",
       "      <td>0.570214</td>\n",
       "      <td>0.278229</td>\n",
       "      <td>2.431438</td>\n",
       "      <td>19.647465</td>\n",
       "      <td>8.955801</td>\n",
       "      <td>84.165287</td>\n",
       "      <td>0</td>\n",
       "    </tr>\n",
       "    <tr>\n",
       "      <th>...</th>\n",
       "      <td>...</td>\n",
       "      <td>...</td>\n",
       "      <td>...</td>\n",
       "      <td>...</td>\n",
       "      <td>...</td>\n",
       "      <td>...</td>\n",
       "      <td>...</td>\n",
       "      <td>...</td>\n",
       "      <td>...</td>\n",
       "    </tr>\n",
       "    <tr>\n",
       "      <th>13946</th>\n",
       "      <td>112.093750</td>\n",
       "      <td>49.215317</td>\n",
       "      <td>0.135199</td>\n",
       "      <td>-0.091304</td>\n",
       "      <td>66.041806</td>\n",
       "      <td>74.676672</td>\n",
       "      <td>0.281154</td>\n",
       "      <td>-1.830704</td>\n",
       "      <td>0</td>\n",
       "    </tr>\n",
       "    <tr>\n",
       "      <th>2220</th>\n",
       "      <td>131.320312</td>\n",
       "      <td>46.859153</td>\n",
       "      <td>0.295827</td>\n",
       "      <td>0.158151</td>\n",
       "      <td>1.945652</td>\n",
       "      <td>17.164302</td>\n",
       "      <td>10.728123</td>\n",
       "      <td>128.179642</td>\n",
       "      <td>0</td>\n",
       "    </tr>\n",
       "    <tr>\n",
       "      <th>13821</th>\n",
       "      <td>118.000000</td>\n",
       "      <td>48.656160</td>\n",
       "      <td>0.055570</td>\n",
       "      <td>-0.078968</td>\n",
       "      <td>1.088629</td>\n",
       "      <td>12.336984</td>\n",
       "      <td>14.649034</td>\n",
       "      <td>246.822866</td>\n",
       "      <td>0</td>\n",
       "    </tr>\n",
       "    <tr>\n",
       "      <th>10280</th>\n",
       "      <td>130.445312</td>\n",
       "      <td>45.611095</td>\n",
       "      <td>0.051313</td>\n",
       "      <td>0.762493</td>\n",
       "      <td>4.051839</td>\n",
       "      <td>26.204859</td>\n",
       "      <td>6.672603</td>\n",
       "      <td>44.563260</td>\n",
       "      <td>0</td>\n",
       "    </tr>\n",
       "    <tr>\n",
       "      <th>3208</th>\n",
       "      <td>87.406250</td>\n",
       "      <td>41.590909</td>\n",
       "      <td>0.925259</td>\n",
       "      <td>2.455586</td>\n",
       "      <td>1.032609</td>\n",
       "      <td>11.653861</td>\n",
       "      <td>14.674811</td>\n",
       "      <td>252.152549</td>\n",
       "      <td>0</td>\n",
       "    </tr>\n",
       "  </tbody>\n",
       "</table>\n",
       "<p>17898 rows × 9 columns</p>\n",
       "</div>"
      ],
      "text/plain": [
       "        Mean of the integrated profile  \\\n",
       "5971                        109.179688   \n",
       "5551                        119.093750   \n",
       "5869                         86.242188   \n",
       "14228                       116.835938   \n",
       "12661                        99.890625   \n",
       "...                                ...   \n",
       "13946                       112.093750   \n",
       "2220                        131.320312   \n",
       "13821                       118.000000   \n",
       "10280                       130.445312   \n",
       "3208                         87.406250   \n",
       "\n",
       "        Standard deviation of the integrated profile  \\\n",
       "5971                                       46.504105   \n",
       "5551                                       45.567676   \n",
       "5869                                       34.714628   \n",
       "14228                                      48.308704   \n",
       "12661                                      47.729910   \n",
       "...                                              ...   \n",
       "13946                                      49.215317   \n",
       "2220                                       46.859153   \n",
       "13821                                      48.656160   \n",
       "10280                                      45.611095   \n",
       "3208                                       41.590909   \n",
       "\n",
       "        Excess kurtosis of the integrated profile  \\\n",
       "5971                                     0.451385   \n",
       "5551                                     0.214837   \n",
       "5869                                     0.772281   \n",
       "14228                                    0.011564   \n",
       "12661                                    0.570214   \n",
       "...                                           ...   \n",
       "13946                                    0.135199   \n",
       "2220                                     0.295827   \n",
       "13821                                    0.055570   \n",
       "10280                                    0.051313   \n",
       "3208                                     0.925259   \n",
       "\n",
       "        Skewness of the integrated profile   Mean of the DM-SNR curve  \\\n",
       "5971                              0.664331                   2.244983   \n",
       "5551                             -0.006948                   2.315217   \n",
       "5869                              3.534834                   2.173077   \n",
       "14228                            -0.085702                   4.219064   \n",
       "12661                             0.278229                   2.431438   \n",
       "...                                    ...                        ...   \n",
       "13946                            -0.091304                  66.041806   \n",
       "2220                              0.158151                   1.945652   \n",
       "13821                            -0.078968                   1.088629   \n",
       "10280                             0.762493                   4.051839   \n",
       "3208                              2.455586                   1.032609   \n",
       "\n",
       "        Standard deviation of the DM-SNR curve  \\\n",
       "5971                                 16.955017   \n",
       "5551                                 14.144032   \n",
       "5869                                 13.503164   \n",
       "14228                                23.944065   \n",
       "12661                                19.647465   \n",
       "...                                        ...   \n",
       "13946                                74.676672   \n",
       "2220                                 17.164302   \n",
       "13821                                12.336984   \n",
       "10280                                26.204859   \n",
       "3208                                 11.653861   \n",
       "\n",
       "        Excess kurtosis of the DM-SNR curve   Skewness of the DM-SNR curve  \\\n",
       "5971                               8.964016                      91.924122   \n",
       "5551                               9.062544                     112.090726   \n",
       "5869                              10.591768                     148.691540   \n",
       "14228                              6.838946                      51.750943   \n",
       "12661                              8.955801                      84.165287   \n",
       "...                                     ...                            ...   \n",
       "13946                              0.281154                      -1.830704   \n",
       "2220                              10.728123                     128.179642   \n",
       "13821                             14.649034                     246.822866   \n",
       "10280                              6.672603                      44.563260   \n",
       "3208                              14.674811                     252.152549   \n",
       "\n",
       "       target_class  \n",
       "5971              0  \n",
       "5551              0  \n",
       "5869              0  \n",
       "14228             0  \n",
       "12661             0  \n",
       "...             ...  \n",
       "13946             0  \n",
       "2220              0  \n",
       "13821             0  \n",
       "10280             0  \n",
       "3208              0  \n",
       "\n",
       "[17898 rows x 9 columns]"
      ]
     },
     "execution_count": 32,
     "metadata": {},
     "output_type": "execute_result"
    }
   ],
   "source": [
    "data"
   ]
  },
  {
   "cell_type": "code",
   "execution_count": 33,
   "metadata": {},
   "outputs": [],
   "source": [
    "ejemplos = data.values.tolist()\n",
    "ejemplos = np.array(ejemplos)\n",
    "\n",
    "features = ejemplos.transpose()"
   ]
  },
  {
   "cell_type": "code",
   "execution_count": 42,
   "metadata": {},
   "outputs": [
    {
     "data": {
      "text/plain": [
       "array([[1.09179688e+02, 1.19093750e+02, 8.62421875e+01, ...,\n",
       "        1.18000000e+02, 1.30445312e+02, 8.74062500e+01],\n",
       "       [4.65041049e+01, 4.55676759e+01, 3.47146282e+01, ...,\n",
       "        4.86561597e+01, 4.56110952e+01, 4.15909090e+01],\n",
       "       [4.51385397e-01, 2.14837208e-01, 7.72280896e-01, ...,\n",
       "        5.55701750e-02, 5.13131090e-02, 9.25258834e-01],\n",
       "       ...,\n",
       "       [8.96401612e+00, 9.06254389e+00, 1.05917676e+01, ...,\n",
       "        1.46490345e+01, 6.67260258e+00, 1.46748106e+01],\n",
       "       [9.19241215e+01, 1.12090726e+02, 1.48691540e+02, ...,\n",
       "        2.46822866e+02, 4.45632605e+01, 2.52152549e+02],\n",
       "       [0.00000000e+00, 0.00000000e+00, 0.00000000e+00, ...,\n",
       "        0.00000000e+00, 0.00000000e+00, 0.00000000e+00]])"
      ]
     },
     "execution_count": 42,
     "metadata": {},
     "output_type": "execute_result"
    }
   ],
   "source": [
    "features"
   ]
  },
  {
   "cell_type": "code",
   "execution_count": 34,
   "metadata": {},
   "outputs": [],
   "source": [
    "X = features[0:8]\n",
    "Y = features[8]\n",
    "\n",
    "X = X.transpose()"
   ]
  },
  {
   "cell_type": "markdown",
   "metadata": {},
   "source": [
    "Ahora creamos el set de validación cruzada y el de entrenamiento"
   ]
  },
  {
   "cell_type": "code",
   "execution_count": 35,
   "metadata": {},
   "outputs": [],
   "source": [
    "X_train = X[0:14000]\n",
    "Y_train = Y[0:14000]\n",
    "\n",
    "X_cv = X[14000:]\n",
    "Y_cv = Y[14000:]"
   ]
  },
  {
   "cell_type": "code",
   "execution_count": 36,
   "metadata": {},
   "outputs": [
    {
     "data": {
      "text/plain": [
       "((14000, 8), (14000,), (3898, 8), (3898,))"
      ]
     },
     "execution_count": 36,
     "metadata": {},
     "output_type": "execute_result"
    }
   ],
   "source": [
    "X_train.shape, Y_train.shape, X_cv.shape, Y_cv.shape"
   ]
  },
  {
   "cell_type": "markdown",
   "metadata": {},
   "source": [
    "### Entrenamiento de la red neuronal\n",
    "\n",
    "Importamos la libreria necesaria"
   ]
  },
  {
   "cell_type": "markdown",
   "metadata": {},
   "source": [
    "Primero armamos la red neuronal"
   ]
  },
  {
   "cell_type": "code",
   "execution_count": 38,
   "metadata": {},
   "outputs": [
    {
     "name": "stdout",
     "output_type": "stream",
     "text": [
      "Model: \"model_2\"\n",
      "_________________________________________________________________\n",
      "Layer (type)                 Output Shape              Param #   \n",
      "=================================================================\n",
      "input_2 (InputLayer)         (None, 8)                 0         \n",
      "_________________________________________________________________\n",
      "dense_3 (Dense)              (None, 2)                 18        \n",
      "_________________________________________________________________\n",
      "activation_3 (Activation)    (None, 2)                 0         \n",
      "_________________________________________________________________\n",
      "dense_4 (Dense)              (None, 1)                 3         \n",
      "_________________________________________________________________\n",
      "activation_4 (Activation)    (None, 1)                 0         \n",
      "=================================================================\n",
      "Total params: 21\n",
      "Trainable params: 21\n",
      "Non-trainable params: 0\n",
      "_________________________________________________________________\n"
     ]
    }
   ],
   "source": [
    "inputs = Input(shape=(8,))\n",
    "\n",
    "x = Dense(2)(inputs)\n",
    "x = Activation(\"relu\")(x)\n",
    "\n",
    "x = Dense(1)(x)\n",
    "x = Activation(\"sigmoid\")(x)\n",
    "\n",
    "model = Model(inputs, x)\n",
    "\n",
    "\n",
    "# Compilación del modelo:\n",
    "model.compile(optimizer=Adam(), loss='binary_crossentropy', metrics=['accuracy'])\n",
    "\n",
    "model.summary()"
   ]
  },
  {
   "cell_type": "markdown",
   "metadata": {},
   "source": [
    "Ahora entrenamos nuestra red neuronal"
   ]
  },
  {
   "cell_type": "code",
   "execution_count": 39,
   "metadata": {},
   "outputs": [
    {
     "name": "stdout",
     "output_type": "stream",
     "text": [
      "Epoch 1/20\n",
      "14000/14000 [==============================] - 4s 310us/step - loss: 0.6071 - accuracy: 0.9074\n",
      "Epoch 2/20\n",
      "14000/14000 [==============================] - 4s 295us/step - loss: 0.2864 - accuracy: 0.9367\n",
      "Epoch 3/20\n",
      "14000/14000 [==============================] - 4s 309us/step - loss: 0.2010 - accuracy: 0.9511\n",
      "Epoch 4/20\n",
      "14000/14000 [==============================] - 4s 308us/step - loss: 0.1513 - accuracy: 0.9607\n",
      "Epoch 5/20\n",
      "14000/14000 [==============================] - 4s 310us/step - loss: 0.1189 - accuracy: 0.9679\n",
      "Epoch 6/20\n",
      "14000/14000 [==============================] - 4s 310us/step - loss: 0.1054 - accuracy: 0.9708\n",
      "Epoch 7/20\n",
      "14000/14000 [==============================] - 4s 302us/step - loss: 0.0993 - accuracy: 0.9727\n",
      "Epoch 8/20\n",
      "14000/14000 [==============================] - 4s 313us/step - loss: 0.0957 - accuracy: 0.9731\n",
      "Epoch 9/20\n",
      "14000/14000 [==============================] - 4s 317us/step - loss: 0.0932 - accuracy: 0.9731\n",
      "Epoch 10/20\n",
      "14000/14000 [==============================] - 4s 313us/step - loss: 0.0911 - accuracy: 0.9740\n",
      "Epoch 11/20\n",
      "14000/14000 [==============================] - 5s 331us/step - loss: 0.0899 - accuracy: 0.9743\n",
      "Epoch 12/20\n",
      "14000/14000 [==============================] - 5s 329us/step - loss: 0.0891 - accuracy: 0.9744\n",
      "Epoch 13/20\n",
      "14000/14000 [==============================] - 4s 313us/step - loss: 0.0881 - accuracy: 0.9751\n",
      "Epoch 14/20\n",
      "14000/14000 [==============================] - 5s 329us/step - loss: 0.0877 - accuracy: 0.9749\n",
      "Epoch 15/20\n",
      "14000/14000 [==============================] - 5s 329us/step - loss: 0.0868 - accuracy: 0.9751\n",
      "Epoch 16/20\n",
      "14000/14000 [==============================] - 4s 314us/step - loss: 0.0867 - accuracy: 0.9750\n",
      "Epoch 17/20\n",
      "14000/14000 [==============================] - 5s 356us/step - loss: 0.0860 - accuracy: 0.9749\n",
      "Epoch 18/20\n",
      "14000/14000 [==============================] - 4s 310us/step - loss: 0.0856 - accuracy: 0.9747\n",
      "Epoch 19/20\n",
      "14000/14000 [==============================] - 5s 325us/step - loss: 0.0857 - accuracy: 0.9750\n",
      "Epoch 20/20\n",
      "14000/14000 [==============================] - 5s 325us/step - loss: 0.0855 - accuracy: 0.9748\n"
     ]
    },
    {
     "data": {
      "text/plain": [
       "<keras.callbacks.callbacks.History at 0x7fa0880c6d10>"
      ]
     },
     "execution_count": 39,
     "metadata": {},
     "output_type": "execute_result"
    }
   ],
   "source": [
    "model.fit(X_train, Y_train, epochs=20, batch_size=10)  "
   ]
  },
  {
   "cell_type": "markdown",
   "metadata": {},
   "source": [
    "Evaluamos el modelo para el conjunto de entrenamiento y el de validación cruzada:"
   ]
  },
  {
   "cell_type": "code",
   "execution_count": 40,
   "metadata": {},
   "outputs": [
    {
     "name": "stdout",
     "output_type": "stream",
     "text": [
      "14000/14000 [==============================] - 1s 49us/step\n",
      "Accuracy train: 97.56\n"
     ]
    }
   ],
   "source": [
    "# evaluación del modelo para el conjunto de entrenamiento\n",
    "J_train, accuracy_train = model.evaluate(X_train, Y_train)\n",
    "print('Accuracy train: %.2f' % (accuracy_train*100))"
   ]
  },
  {
   "cell_type": "code",
   "execution_count": 41,
   "metadata": {},
   "outputs": [
    {
     "name": "stdout",
     "output_type": "stream",
     "text": [
      "3898/3898 [==============================] - 0s 48us/step\n",
      "Accuracy CV: 97.61\n"
     ]
    }
   ],
   "source": [
    "# evaluación del modelo para el conjunto de validación cruzada\n",
    "J_cv, accuracy_cv = model.evaluate(X_cv, Y_cv)\n",
    "print('Accuracy CV: %.2f' % (accuracy_cv*100))"
   ]
  },
  {
   "cell_type": "code",
   "execution_count": null,
   "metadata": {},
   "outputs": [],
   "source": []
  }
 ],
 "metadata": {
  "kernelspec": {
   "display_name": "Python 3",
   "language": "python",
   "name": "python3"
  },
  "language_info": {
   "codemirror_mode": {
    "name": "ipython",
    "version": 3
   },
   "file_extension": ".py",
   "mimetype": "text/x-python",
   "name": "python",
   "nbconvert_exporter": "python",
   "pygments_lexer": "ipython3",
   "version": "3.7.7"
  }
 },
 "nbformat": 4,
 "nbformat_minor": 4
}
